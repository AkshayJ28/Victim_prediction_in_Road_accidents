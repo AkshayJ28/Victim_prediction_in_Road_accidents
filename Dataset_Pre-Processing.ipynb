{
 "cells": [
  {
   "cell_type": "code",
   "execution_count": 2,
   "metadata": {},
   "outputs": [],
   "source": [
    "import pandas as pd\n",
    "import numpy as np\n",
    "import math"
   ]
  },
  {
   "cell_type": "code",
   "execution_count": 3,
   "metadata": {},
   "outputs": [
    {
     "data": {
      "text/plain": [
       "(184224, 30)"
      ]
     },
     "execution_count": 3,
     "metadata": {},
     "output_type": "execute_result"
    }
   ],
   "source": [
    "df = pd.read_csv('road_accident_one_hot_encoding_conversion.csv')\n",
    "df.shape"
   ]
  },
  {
   "cell_type": "code",
   "execution_count": 4,
   "metadata": {},
   "outputs": [],
   "source": [
    "df.drop('Kilometer', axis=1,inplace = True)"
   ]
  },
  {
   "cell_type": "code",
   "execution_count": 5,
   "metadata": {},
   "outputs": [
    {
     "data": {
      "text/html": [
       "<div>\n",
       "<style scoped>\n",
       "    .dataframe tbody tr th:only-of-type {\n",
       "        vertical-align: middle;\n",
       "    }\n",
       "\n",
       "    .dataframe tbody tr th {\n",
       "        vertical-align: top;\n",
       "    }\n",
       "\n",
       "    .dataframe thead th {\n",
       "        text-align: right;\n",
       "    }\n",
       "</style>\n",
       "<table border=\"1\" class=\"dataframe\">\n",
       "  <thead>\n",
       "    <tr style=\"text-align: right;\">\n",
       "      <th></th>\n",
       "      <th>Unnamed: 0</th>\n",
       "      <th>Highway number</th>\n",
       "      <th>Accident cause</th>\n",
       "      <th>Accident classfication</th>\n",
       "      <th>Weekday</th>\n",
       "      <th>Climate</th>\n",
       "      <th>Moment of the day</th>\n",
       "      <th>Injured</th>\n",
       "      <th>Number of light injured</th>\n",
       "      <th>Number of people without info</th>\n",
       "      <th>...</th>\n",
       "      <th>Road type</th>\n",
       "      <th>Road layout</th>\n",
       "      <th>State</th>\n",
       "      <th>Soil use</th>\n",
       "      <th>Total cars</th>\n",
       "      <th>Hour</th>\n",
       "      <th>Year</th>\n",
       "      <th>Month</th>\n",
       "      <th>Day</th>\n",
       "      <th>target</th>\n",
       "    </tr>\n",
       "  </thead>\n",
       "  <tbody>\n",
       "    <tr>\n",
       "      <th>0</th>\n",
       "      <td>0</td>\n",
       "      <td>376.0</td>\n",
       "      <td>23</td>\n",
       "      <td>1</td>\n",
       "      <td>7</td>\n",
       "      <td>15</td>\n",
       "      <td>5</td>\n",
       "      <td>1</td>\n",
       "      <td>0</td>\n",
       "      <td>0</td>\n",
       "      <td>...</td>\n",
       "      <td>4</td>\n",
       "      <td>9</td>\n",
       "      <td>17</td>\n",
       "      <td>0</td>\n",
       "      <td>1</td>\n",
       "      <td>0</td>\n",
       "      <td>2017</td>\n",
       "      <td>1</td>\n",
       "      <td>1</td>\n",
       "      <td>1</td>\n",
       "    </tr>\n",
       "    <tr>\n",
       "      <th>1</th>\n",
       "      <td>1</td>\n",
       "      <td>101.0</td>\n",
       "      <td>18</td>\n",
       "      <td>2</td>\n",
       "      <td>7</td>\n",
       "      <td>15</td>\n",
       "      <td>5</td>\n",
       "      <td>0</td>\n",
       "      <td>0</td>\n",
       "      <td>0</td>\n",
       "      <td>...</td>\n",
       "      <td>0</td>\n",
       "      <td>3</td>\n",
       "      <td>23</td>\n",
       "      <td>0</td>\n",
       "      <td>1</td>\n",
       "      <td>0</td>\n",
       "      <td>2017</td>\n",
       "      <td>1</td>\n",
       "      <td>1</td>\n",
       "      <td>0</td>\n",
       "    </tr>\n",
       "    <tr>\n",
       "      <th>2</th>\n",
       "      <td>2</td>\n",
       "      <td>153.0</td>\n",
       "      <td>4</td>\n",
       "      <td>1</td>\n",
       "      <td>7</td>\n",
       "      <td>5</td>\n",
       "      <td>5</td>\n",
       "      <td>2</td>\n",
       "      <td>2</td>\n",
       "      <td>0</td>\n",
       "      <td>...</td>\n",
       "      <td>4</td>\n",
       "      <td>9</td>\n",
       "      <td>17</td>\n",
       "      <td>0</td>\n",
       "      <td>1</td>\n",
       "      <td>0</td>\n",
       "      <td>2017</td>\n",
       "      <td>1</td>\n",
       "      <td>1</td>\n",
       "      <td>1</td>\n",
       "    </tr>\n",
       "    <tr>\n",
       "      <th>3</th>\n",
       "      <td>3</td>\n",
       "      <td>153.0</td>\n",
       "      <td>26</td>\n",
       "      <td>1</td>\n",
       "      <td>7</td>\n",
       "      <td>2</td>\n",
       "      <td>5</td>\n",
       "      <td>1</td>\n",
       "      <td>0</td>\n",
       "      <td>0</td>\n",
       "      <td>...</td>\n",
       "      <td>0</td>\n",
       "      <td>9</td>\n",
       "      <td>8</td>\n",
       "      <td>3</td>\n",
       "      <td>1</td>\n",
       "      <td>0</td>\n",
       "      <td>2017</td>\n",
       "      <td>1</td>\n",
       "      <td>1</td>\n",
       "      <td>1</td>\n",
       "    </tr>\n",
       "    <tr>\n",
       "      <th>4</th>\n",
       "      <td>4</td>\n",
       "      <td>280.0</td>\n",
       "      <td>2</td>\n",
       "      <td>1</td>\n",
       "      <td>7</td>\n",
       "      <td>15</td>\n",
       "      <td>5</td>\n",
       "      <td>1</td>\n",
       "      <td>1</td>\n",
       "      <td>0</td>\n",
       "      <td>...</td>\n",
       "      <td>4</td>\n",
       "      <td>5</td>\n",
       "      <td>23</td>\n",
       "      <td>0</td>\n",
       "      <td>1</td>\n",
       "      <td>0</td>\n",
       "      <td>2017</td>\n",
       "      <td>1</td>\n",
       "      <td>1</td>\n",
       "      <td>1</td>\n",
       "    </tr>\n",
       "  </tbody>\n",
       "</table>\n",
       "<p>5 rows × 29 columns</p>\n",
       "</div>"
      ],
      "text/plain": [
       "   Unnamed: 0  Highway number  Accident cause  Accident classfication  \\\n",
       "0           0           376.0              23                       1   \n",
       "1           1           101.0              18                       2   \n",
       "2           2           153.0               4                       1   \n",
       "3           3           153.0              26                       1   \n",
       "4           4           280.0               2                       1   \n",
       "\n",
       "   Weekday  Climate  Moment of the day  Injured  Number of light injured  \\\n",
       "0        7       15                  5        1                        0   \n",
       "1        7       15                  5        0                        0   \n",
       "2        7        5                  5        2                        2   \n",
       "3        7        2                  5        1                        0   \n",
       "4        7       15                  5        1                        1   \n",
       "\n",
       "   Number of people without info  ...  Road type  Road layout  State  \\\n",
       "0                              0  ...          4            9     17   \n",
       "1                              0  ...          0            3     23   \n",
       "2                              0  ...          4            9     17   \n",
       "3                              0  ...          0            9      8   \n",
       "4                              0  ...          4            5     23   \n",
       "\n",
       "   Soil use  Total cars  Hour  Year  Month  Day  target  \n",
       "0         0           1     0  2017      1    1       1  \n",
       "1         0           1     0  2017      1    1       0  \n",
       "2         0           1     0  2017      1    1       1  \n",
       "3         3           1     0  2017      1    1       1  \n",
       "4         0           1     0  2017      1    1       1  \n",
       "\n",
       "[5 rows x 29 columns]"
      ]
     },
     "execution_count": 5,
     "metadata": {},
     "output_type": "execute_result"
    }
   ],
   "source": [
    "df.head()"
   ]
  },
  {
   "cell_type": "code",
   "execution_count": 6,
   "metadata": {},
   "outputs": [
    {
     "name": "stdout",
     "output_type": "stream",
     "text": [
      "<class 'pandas.core.frame.DataFrame'>\n",
      "RangeIndex: 184224 entries, 0 to 184223\n",
      "Data columns (total 29 columns):\n",
      "Unnamed: 0                       184224 non-null int64\n",
      "Highway number                   184078 non-null float64\n",
      "Accident cause                   184224 non-null int64\n",
      "Accident classfication           184224 non-null int64\n",
      "Weekday                          184224 non-null int64\n",
      "Climate                          184224 non-null int64\n",
      "Moment of the day                184224 non-null int64\n",
      "Injured                          184224 non-null int64\n",
      "Number of light injured          184224 non-null int64\n",
      "Number of people without info    184224 non-null int64\n",
      "Number of people not harmed      184224 non-null int64\n",
      "latitude                         89518 non-null float64\n",
      "longitude                        89518 non-null float64\n",
      "Deaths                           184224 non-null int64\n",
      "city                             184224 non-null int64\n",
      "Total people                     184224 non-null int64\n",
      "regional                         184224 non-null int64\n",
      "Road way                         184224 non-null int64\n",
      "Accident type                    184224 non-null int64\n",
      "Road type                        184224 non-null int64\n",
      "Road layout                      184224 non-null int64\n",
      "State                            184224 non-null int64\n",
      "Soil use                         184224 non-null int64\n",
      "Total cars                       184224 non-null int64\n",
      "Hour                             184224 non-null int64\n",
      "Year                             184224 non-null int64\n",
      "Month                            184224 non-null int64\n",
      "Day                              184224 non-null int64\n",
      "target                           184224 non-null int64\n",
      "dtypes: float64(3), int64(26)\n",
      "memory usage: 40.8 MB\n"
     ]
    }
   ],
   "source": [
    "df.info()"
   ]
  },
  {
   "cell_type": "code",
   "execution_count": 7,
   "metadata": {},
   "outputs": [
    {
     "data": {
      "text/plain": [
       "(184224, 29)"
      ]
     },
     "execution_count": 7,
     "metadata": {},
     "output_type": "execute_result"
    }
   ],
   "source": [
    "df.shape"
   ]
  },
  {
   "cell_type": "code",
   "execution_count": 8,
   "metadata": {},
   "outputs": [],
   "source": [
    "df.drop_duplicates(inplace = True)"
   ]
  },
  {
   "cell_type": "code",
   "execution_count": 9,
   "metadata": {},
   "outputs": [
    {
     "data": {
      "text/plain": [
       "(184224, 29)"
      ]
     },
     "execution_count": 9,
     "metadata": {},
     "output_type": "execute_result"
    }
   ],
   "source": [
    "df.shape"
   ]
  },
  {
   "cell_type": "code",
   "execution_count": 10,
   "metadata": {},
   "outputs": [],
   "source": [
    "df = df.fillna(0)"
   ]
  },
  {
   "cell_type": "code",
   "execution_count": 11,
   "metadata": {},
   "outputs": [
    {
     "name": "stdout",
     "output_type": "stream",
     "text": [
      "<class 'pandas.core.frame.DataFrame'>\n",
      "Int64Index: 184224 entries, 0 to 184223\n",
      "Data columns (total 29 columns):\n",
      "Unnamed: 0                       184224 non-null int64\n",
      "Highway number                   184224 non-null float64\n",
      "Accident cause                   184224 non-null int64\n",
      "Accident classfication           184224 non-null int64\n",
      "Weekday                          184224 non-null int64\n",
      "Climate                          184224 non-null int64\n",
      "Moment of the day                184224 non-null int64\n",
      "Injured                          184224 non-null int64\n",
      "Number of light injured          184224 non-null int64\n",
      "Number of people without info    184224 non-null int64\n",
      "Number of people not harmed      184224 non-null int64\n",
      "latitude                         184224 non-null float64\n",
      "longitude                        184224 non-null float64\n",
      "Deaths                           184224 non-null int64\n",
      "city                             184224 non-null int64\n",
      "Total people                     184224 non-null int64\n",
      "regional                         184224 non-null int64\n",
      "Road way                         184224 non-null int64\n",
      "Accident type                    184224 non-null int64\n",
      "Road type                        184224 non-null int64\n",
      "Road layout                      184224 non-null int64\n",
      "State                            184224 non-null int64\n",
      "Soil use                         184224 non-null int64\n",
      "Total cars                       184224 non-null int64\n",
      "Hour                             184224 non-null int64\n",
      "Year                             184224 non-null int64\n",
      "Month                            184224 non-null int64\n",
      "Day                              184224 non-null int64\n",
      "target                           184224 non-null int64\n",
      "dtypes: float64(3), int64(26)\n",
      "memory usage: 42.2 MB\n"
     ]
    }
   ],
   "source": [
    "df.info()"
   ]
  },
  {
   "cell_type": "code",
   "execution_count": 11,
   "metadata": {},
   "outputs": [],
   "source": [
    "df.to_csv('Preprocessed_Dataset.csv')"
   ]
  }
 ],
 "metadata": {
  "kernelspec": {
   "display_name": "Python 3",
   "language": "python",
   "name": "python3"
  },
  "language_info": {
   "codemirror_mode": {
    "name": "ipython",
    "version": 3
   },
   "file_extension": ".py",
   "mimetype": "text/x-python",
   "name": "python",
   "nbconvert_exporter": "python",
   "pygments_lexer": "ipython3",
   "version": "3.7.3"
  }
 },
 "nbformat": 4,
 "nbformat_minor": 2
}
